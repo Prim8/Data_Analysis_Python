{
 "metadata": {
  "name": "",
  "signature": "sha256:843e395e655d3b0ddae8faea0c2b880aafab89efc474a900bafe0e3b031539f0"
 },
 "nbformat": 3,
 "nbformat_minor": 0,
 "worksheets": [
  {
   "cells": [
    {
     "cell_type": "markdown",
     "metadata": {},
     "source": [
      "Predicting college admission using machine learning (logistic regression) \n",
      "===\n",
      "For this project, I build a logistic regression (i.e. classification) model that estimates an student's probability of admission at a university based on their results on two exams. I use a small historical dataset from previous applicants as a training set. Each training example include the applicant's scores on two exams and their admission decision. Given the small size of the dataset, all analyses are performed on the training set only. When more data is available, the dataset should be properly split into a training/validation/test sets."
     ]
    },
    {
     "cell_type": "markdown",
     "metadata": {},
     "source": [
      "## 1 - Loading and visualizing the data"
     ]
    },
    {
     "cell_type": "code",
     "collapsed": false,
     "input": [
      "import numpy as np\n",
      "import matplotlib.pyplot as plt"
     ],
     "language": "python",
     "metadata": {},
     "outputs": [],
     "prompt_number": 1
    },
    {
     "cell_type": "code",
     "collapsed": false,
     "input": [
      "# load the data\n",
      "data = np.loadtxt('./Data/ex2data1.txt', delimiter=',')\n",
      "print data[:10]\n",
      "print '\\n dimension:', data.shape\n",
      "print '\\n', type(data)"
     ],
     "language": "python",
     "metadata": {},
     "outputs": [
      {
       "output_type": "stream",
       "stream": "stdout",
       "text": [
        "[[ 34.62365962  78.02469282   0.        ]\n",
        " [ 30.28671077  43.89499752   0.        ]\n",
        " [ 35.84740877  72.90219803   0.        ]\n",
        " [ 60.18259939  86.3085521    1.        ]\n",
        " [ 79.03273605  75.34437644   1.        ]\n",
        " [ 45.08327748  56.31637178   0.        ]\n",
        " [ 61.10666454  96.51142588   1.        ]\n",
        " [ 75.02474557  46.55401354   1.        ]\n",
        " [ 76.0987867   87.42056972   1.        ]\n",
        " [ 84.43281996  43.53339331   1.        ]]\n",
        "\n",
        " dimension: (100, 3)\n",
        "\n",
        "<type 'numpy.ndarray'>\n"
       ]
      }
     ],
     "prompt_number": 2
    },
    {
     "cell_type": "code",
     "collapsed": false,
     "input": [
      "# visualize the data\n",
      "def graph():\n",
      "    fig = plt.figure()\n",
      "    ax = fig.add_subplot(111)\n",
      "\n",
      "    yes = data[data[:, 2] == 1]\n",
      "    no = data[data[:, 2] == 0]\n",
      "\n",
      "    ax.scatter(yes[:, 0], yes[:, 1], marker = 'o', color='blue', label = 'admitted')\n",
      "    ax.scatter(no[:, 0], no[:, 1], marker = 'x', color='red', label = 'not admitted')\n",
      "\n",
      "    ax.set_xlabel('Exam 1')\n",
      "    ax.set_ylabel('Exam 2')\n",
      "\n",
      "    ax.set_title(\"Exam scores\")\n",
      "    ax.legend(loc = 'best') \n",
      "    plt.show()\n",
      "    \n",
      "graph()"
     ],
     "language": "python",
     "metadata": {},
     "outputs": [
      {
       "metadata": {},
       "output_type": "display_data",
       "png": "[encoded data removed]",
       "text": [
        "<matplotlib.figure.Figure at 0x10b7db7d0>"
       ]
      }
     ],
     "prompt_number": 3
    },
    {
     "cell_type": "markdown",
     "metadata": {},
     "source": [
      " \n",
      " \n",
      " \n",
      " "
     ]
    },
    {
     "cell_type": "markdown",
     "metadata": {},
     "source": [
      "\n",
      "\n",
      "\n"
     ]
    },
    {
     "cell_type": "markdown",
     "metadata": {},
     "source": [
      "## 2 - Prepare the data"
     ]
    },
    {
     "cell_type": "code",
     "collapsed": false,
     "input": [
      "# Assign X and y the dataset\n",
      "X = data[:, :2] # predictors\n",
      "y = data[:, -1] # outcome\n",
      "    \n",
      "X = np.append(np.ones((X.shape[0], 1)), X, axis=1) # add a column of ones to X (i.e. intercept)\n",
      "\n",
      "print '\\n X = \\n', X[:5] # first five rows\n",
      "print '\\n y = \\n', y[:5] # first five rows"
     ],
     "language": "python",
     "metadata": {},
     "outputs": [
      {
       "output_type": "stream",
       "stream": "stdout",
       "text": [
        "\n",
        " X = \n",
        "[[  1.          34.62365962  78.02469282]\n",
        " [  1.          30.28671077  43.89499752]\n",
        " [  1.          35.84740877  72.90219803]\n",
        " [  1.          60.18259939  86.3085521 ]\n",
        " [  1.          79.03273605  75.34437644]]\n",
        "\n",
        " y = \n",
        "[ 0.  0.  0.  1.  1.]\n"
       ]
      }
     ],
     "prompt_number": 4
    },
    {
     "cell_type": "code",
     "collapsed": false,
     "input": [
      "# initialize the thetas at zero\n",
      "theta = np.zeros(shape = 3) # theta.shape =(3,)\n",
      "print theta"
     ],
     "language": "python",
     "metadata": {},
     "outputs": [
      {
       "output_type": "stream",
       "stream": "stdout",
       "text": [
        "[ 0.  0.  0.]\n"
       ]
      }
     ],
     "prompt_number": 5
    },
    {
     "cell_type": "markdown",
     "metadata": {},
     "source": [
      "\n",
      "\n"
     ]
    },
    {
     "cell_type": "markdown",
     "metadata": {},
     "source": [
      "\n",
      "\n",
      "\n"
     ]
    },
    {
     "cell_type": "markdown",
     "metadata": {},
     "source": [
      "## 3 - Define the functions"
     ]
    },
    {
     "cell_type": "markdown",
     "metadata": {},
     "source": [
      "### Sigmoid function\n",
      "As a reminder, the logistic regression hypothesis $h_{\\theta}(x)$ is defined as:\n",
      "\n",
      "$$\n",
      "h_{\\theta}(x) = g(\\theta^Tx) = \\frac{1}{1 + exp^{(-\\theta^Tx)}}\n",
      "$$\n",
      "\n",
      "and can be simplified as follows:\n",
      "$$\n",
      "h_{\\theta}(x) = g(z) = \\frac{1}{1 + exp^{(-z)}}\n",
      "$$\n",
      "where $z = \\theta^Tx = {\\theta}_0 x_0+ {\\theta}_1x_1 + ... + {\\theta}_nx_n$\n"
     ]
    },
    {
     "cell_type": "code",
     "collapsed": false,
     "input": [
      "def sigmoid(z):\n",
      "    '''\n",
      "    compute the sigmoid function\n",
      "    '''\n",
      "    s = 1.0 / (1.0 + np.exp(-z))\n",
      "    return s"
     ],
     "language": "python",
     "metadata": {},
     "outputs": [],
     "prompt_number": 6
    },
    {
     "cell_type": "code",
     "collapsed": false,
     "input": [
      "# visualize the sigmoid function\n",
      "x = np.arange(-5.0, 5.0, 0.01)\n",
      "plt.plot(x, sigmoid(x))\n",
      "plt.grid()"
     ],
     "language": "python",
     "metadata": {},
     "outputs": [
      {
       "metadata": {},
       "output_type": "display_data",
       "png": "[encoded data removed]",
       "text": [
        "<matplotlib.figure.Figure at 0x10b7d8550>"
       ]
      }
     ],
     "prompt_number": 7
    },
    {
     "cell_type": "markdown",
     "metadata": {},
     "source": [
      "> I test below that the sigmoid function is working properly. The sigmoid of a large positive value should be close to 1 whereas the sigmoid  of a large negative value should be close to 0. Finally, sigmoid(0) should be exactely 0.5"
     ]
    },
    {
     "cell_type": "code",
     "collapsed": false,
     "input": [
      "# test the sigmoid function\n",
      "sigmoid(100000), sigmoid(-100000), sigmoid(0)"
     ],
     "language": "python",
     "metadata": {},
     "outputs": [
      {
       "output_type": "stream",
       "stream": "stderr",
       "text": [
        "-c:5: RuntimeWarning: overflow encountered in exp\n"
       ]
      },
      {
       "metadata": {},
       "output_type": "pyout",
       "prompt_number": 8,
       "text": [
        "(1.0, 0.0, 0.5)"
       ]
      }
     ],
     "prompt_number": 8
    },
    {
     "cell_type": "markdown",
     "metadata": {},
     "source": [
      "\n",
      "\n"
     ]
    },
    {
     "cell_type": "markdown",
     "metadata": {},
     "source": [
      "\n",
      "\n"
     ]
    },
    {
     "cell_type": "markdown",
     "metadata": {},
     "source": [
      "### Cost function"
     ]
    },
    {
     "cell_type": "markdown",
     "metadata": {},
     "source": [
      "The **cost function** of the logistic regression is:\n",
      "\n",
      "$$\n",
      "J(\\theta) = -\\frac{1}{m} [\\sum_{i=1}^{m}y^{(i)} log(h_{\\theta}(x^{(i)})) + (1 - y^{(i)}) log(1 - (h_{\\theta}(x^{(i)}))]\n",
      "$$"
     ]
    },
    {
     "cell_type": "code",
     "collapsed": false,
     "input": [
      "def cost_function(theta, X, y):\n",
      "    '''\n",
      "    compute the cost function J\n",
      "    '''\n",
      "    h = sigmoid(np.dot(X, theta)) # (100 x 3) * (3 x 1) returns a(100 x 1) vector\n",
      "    J = (1./y.size) * sum((-y) * np.log(h) - (1 - y) * np.log(1 - h))\n",
      "    \n",
      "    return J"
     ],
     "language": "python",
     "metadata": {},
     "outputs": [],
     "prompt_number": 9
    },
    {
     "cell_type": "code",
     "collapsed": false,
     "input": [
      "# test the cost function at initial theta(zeros)\n",
      "print cost_function(theta, X, y)"
     ],
     "language": "python",
     "metadata": {},
     "outputs": [
      {
       "output_type": "stream",
       "stream": "stdout",
       "text": [
        "0.69314718056\n"
       ]
      }
     ],
     "prompt_number": 10
    },
    {
     "cell_type": "markdown",
     "metadata": {},
     "source": [
      "\n",
      "\n",
      "\n"
     ]
    },
    {
     "cell_type": "markdown",
     "metadata": {},
     "source": [
      "\n",
      "\n"
     ]
    },
    {
     "cell_type": "markdown",
     "metadata": {},
     "source": [
      "### Gradient"
     ]
    },
    {
     "cell_type": "markdown",
     "metadata": {},
     "source": [
      "The **gradient** of the cost is a vector of the same lenght as $\\theta$ where the $j^{th}$ element (for $j$= 0, 1, ..., n) is defined as follows:\n",
      "$$\n",
      "\\frac{\\partial J(\\theta)}{\\partial \\theta_{j}} = \\frac{1}{m} \\sum_{i=1}^{m}(h_{\\theta}(x^{(i)}) - y^{(i)}) x^{(i)}_{j}\n",
      "$$\n"
     ]
    },
    {
     "cell_type": "code",
     "collapsed": false,
     "input": [
      "# define the gradient derivative algorithm\n",
      "def grad_derivative(theta, X, y):\n",
      "    '''\n",
      "    compute the gradient derivative algorithm\n",
      "    '''\n",
      "    h = sigmoid(np.dot(X, theta)) # hypothesis\n",
      "    error = h - y\n",
      "    grad = np.dot(error, X) / y.size # gradient vector (the thetas)\n",
      "    \n",
      "    return grad"
     ],
     "language": "python",
     "metadata": {},
     "outputs": [],
     "prompt_number": 11
    },
    {
     "cell_type": "code",
     "collapsed": false,
     "input": [
      "# test the gradient derivative algorithm at initial theta(zeros)\n",
      "print grad_derivative(theta, X, y)"
     ],
     "language": "python",
     "metadata": {},
     "outputs": [
      {
       "output_type": "stream",
       "stream": "stdout",
       "text": [
        "[ -0.1        -12.00921659 -11.26284221]\n"
       ]
      }
     ],
     "prompt_number": 12
    },
    {
     "cell_type": "markdown",
     "metadata": {},
     "source": [
      "\n",
      "\n",
      "\n"
     ]
    },
    {
     "cell_type": "markdown",
     "metadata": {},
     "source": [
      "\n",
      "\n"
     ]
    },
    {
     "cell_type": "markdown",
     "metadata": {},
     "source": [
      "## 3 - Optimization of logistic regression"
     ]
    },
    {
     "cell_type": "code",
     "collapsed": false,
     "input": [
      "import scipy.optimize as opt\n",
      "\n",
      "\n",
      "def logistic(X, y):\n",
      "    '''\n",
      "    Minimizes the cost function (output[1] == cost function) and returns the final thetas (output[0] == final thetas)\n",
      "    '''\n",
      "    while True:\n",
      "        theta = np.random.randn(3)\n",
      "        output = opt.fmin_bfgs(cost_function, theta, fprime=grad_derivative, args=(X, y), full_output=True)\n",
      "        if ~np.isnan(output[1]): # np.isnan returns true for null values, whereas ~np.isnan returns false for null values\n",
      "            break\n",
      "    return output[0] # final thetas"
     ],
     "language": "python",
     "metadata": {},
     "outputs": [],
     "prompt_number": 13
    },
    {
     "cell_type": "code",
     "collapsed": false,
     "input": [
      "# print the results of the logistic function\n",
      "print logistic(X, y)"
     ],
     "language": "python",
     "metadata": {},
     "outputs": [
      {
       "output_type": "stream",
       "stream": "stdout",
       "text": [
        "Warning: Desired error not necessarily achieved due to precision loss.\n",
        "         Current function value: nan\n",
        "         Iterations: 1\n",
        "         Function evaluations: 32\n",
        "         Gradient evaluations: 32\n",
        "Warning: Desired error not necessarily achieved due to precision loss.\n",
        "         Current function value: nan\n",
        "         Iterations: 1\n",
        "         Function evaluations: 38\n",
        "         Gradient evaluations: 38\n",
        "Warning: Desired error not necessarily achieved due to precision loss.\n",
        "         Current function value: nan\n",
        "         Iterations: 1\n",
        "         Function evaluations: 32\n",
        "         Gradient evaluations: 32\n",
        "Warning: Desired error not necessarily achieved due to precision loss.\n",
        "         Current function value: nan\n",
        "         Iterations: 1\n",
        "         Function evaluations: 32\n",
        "         Gradient evaluations: 32\n",
        "Warning: Desired error not necessarily achieved due to precision loss.\n",
        "         Current function value: nan\n",
        "         Iterations: 1\n",
        "         Function evaluations: 32\n",
        "         Gradient evaluations: 32\n",
        "Warning: Desired error not necessarily achieved due to precision loss.\n",
        "         Current function value: nan\n",
        "         Iterations: 1\n",
        "         Function evaluations: 32\n",
        "         Gradient evaluations: 32\n",
        "Warning: Desired error not necessarily achieved due to precision loss.\n",
        "         Current function value: nan\n",
        "         Iterations: 1\n",
        "         Function evaluations: 38\n",
        "         Gradient evaluations: 38\n",
        "Optimization terminated successfully.\n",
        "         Current function value: 0.203498\n",
        "         Iterations: 24\n",
        "         Function evaluations: 47\n",
        "         Gradient evaluations: 47\n",
        "[-25.16131253   0.20623152   0.20147147]\n"
       ]
      },
      {
       "output_type": "stream",
       "stream": "stderr",
       "text": [
        "-c:6: RuntimeWarning: divide by zero encountered in log\n",
        "-c:6: RuntimeWarning: invalid value encountered in multiply\n"
       ]
      }
     ],
     "prompt_number": 14
    },
    {
     "cell_type": "markdown",
     "metadata": {},
     "source": [
      "## 4 - Accuracy"
     ]
    },
    {
     "cell_type": "code",
     "collapsed": false,
     "input": [
      "def accuracy(final_theta, X, y):\n",
      "    h = sigmoid(np.dot(X, final_theta)) # hypothesis\n",
      "    return h > 0.5"
     ],
     "language": "python",
     "metadata": {},
     "outputs": [],
     "prompt_number": 15
    },
    {
     "cell_type": "code",
     "collapsed": false,
     "input": [
      "# compute percent accuracy\n",
      "final_theta = [-25.16131253, 0.20623152, 0.20147147] # from the optimization function\n",
      "prediction = accuracy(final_theta, X, y)\n",
      "print '%.2f%% accurate' % ((y[where(prediction == y)].size / float(y.size)) * 100.0)"
     ],
     "language": "python",
     "metadata": {},
     "outputs": [
      {
       "output_type": "stream",
       "stream": "stdout",
       "text": [
        "89.00% accurate\n"
       ]
      }
     ],
     "prompt_number": 16
    },
    {
     "cell_type": "markdown",
     "metadata": {},
     "source": [
      "\n",
      "\n"
     ]
    },
    {
     "cell_type": "markdown",
     "metadata": {},
     "source": [
      "\n",
      "\n"
     ]
    },
    {
     "cell_type": "markdown",
     "metadata": {},
     "source": [
      "## 5 - Predictions"
     ]
    },
    {
     "cell_type": "code",
     "collapsed": false,
     "input": [
      "def probability_of_admission(score1, score2):\n",
      "    '''\n",
      "    Predicts the probability of a student being admitted to collegen given score 1 and score 2.\n",
      "    Returns whether the probability of admission is greater of less than 50%\n",
      "    \n",
      "    The parameters score1 and score2 are numbers ranging from 0 to 100\n",
      "    '''\n",
      "    scores = [1, score1, score2]\n",
      "    np.array([scores])\n",
      "    h = sigmoid(np.dot(scores, final_theta)) # hypothesis\n",
      "    if h > 0.5:\n",
      "        print \"Greater than 50%\"\n",
      "    else:\n",
      "        print \"Less than 50%\""
     ],
     "language": "python",
     "metadata": {},
     "outputs": [],
     "prompt_number": 17
    },
    {
     "cell_type": "code",
     "collapsed": false,
     "input": [
      "# test 1\n",
      "probability_of_admission(90, 50)"
     ],
     "language": "python",
     "metadata": {},
     "outputs": [
      {
       "output_type": "stream",
       "stream": "stdout",
       "text": [
        "Greater than 50%\n"
       ]
      }
     ],
     "prompt_number": 18
    },
    {
     "cell_type": "code",
     "collapsed": false,
     "input": [
      "# test 2\n",
      "probability_of_admission(50, 60)"
     ],
     "language": "python",
     "metadata": {},
     "outputs": [
      {
       "output_type": "stream",
       "stream": "stdout",
       "text": [
        "Less than 50%\n"
       ]
      }
     ],
     "prompt_number": 19
    },
    {
     "cell_type": "code",
     "collapsed": false,
     "input": [
      "# test 3\n",
      "probability_of_admission(30.5, 90.2)"
     ],
     "language": "python",
     "metadata": {},
     "outputs": [
      {
       "output_type": "stream",
       "stream": "stdout",
       "text": [
        "Less than 50%\n"
       ]
      }
     ],
     "prompt_number": 20
    },
    {
     "cell_type": "code",
     "collapsed": false,
     "input": [
      "# test 4\n",
      "probability_of_admission(45, 60)"
     ],
     "language": "python",
     "metadata": {},
     "outputs": [
      {
       "output_type": "stream",
       "stream": "stdout",
       "text": [
        "Less than 50%\n"
       ]
      }
     ],
     "prompt_number": 21
    }
   ],
   "metadata": {}
  }
 ]
}