{
 "metadata": {
  "name": "",
  "signature": "sha256:fd84c123e42eae755c2e4a01cb364fd2c4e87aa1e571ab2f5ebb8849dfdecddf"
 },
 "nbformat": 3,
 "nbformat_minor": 0,
 "worksheets": [
  {
   "cells": [
    {
     "cell_type": "markdown",
     "metadata": {},
     "source": [
      "Baby names analysis\n",
      "====\n",
      "\n",
      "A short analysis of a data set of baby names in the US from 1880 to 2008. This analysis was adapted from Wes McKinney's book \"Python for data analysis\". In what follows, I show a few ways to explore this data set by using some of Panda's functions in IPython. This is a work in progress that I will improve with upcoming updates."
     ]
    },
    {
     "cell_type": "code",
     "collapsed": false,
     "input": [
      "#%matplotlib inline # optional\n",
      "import pandas as pd\n",
      "# pandas.__version__ # to find out which version of panda is used\n",
      "pd.set_option('display.notebook_repr_html', False) # disables html outputs\n",
      "#pd.set_option('display.max_rows', 500) # sets the max row to 500 in outputs"
     ],
     "language": "python",
     "metadata": {},
     "outputs": [],
     "prompt_number": 6
    },
    {
     "cell_type": "code",
     "collapsed": false,
     "input": [
      "# read data\n",
      "names = pd.read_csv('baby-names2.csv')\n",
      "names.head()"
     ],
     "language": "python",
     "metadata": {},
     "outputs": [
      {
       "metadata": {},
       "output_type": "pyout",
       "prompt_number": 7,
       "text": [
        "   year     name      prop  sex soundex\n",
        "0  1880     John  0.081541  boy    J500\n",
        "1  1880  William  0.080511  boy    W450\n",
        "2  1880    James  0.050057  boy    J520\n",
        "3  1880  Charles  0.045167  boy    C642\n",
        "4  1880   George  0.043292  boy    G620\n",
        "\n",
        "[5 rows x 5 columns]"
       ]
      }
     ],
     "prompt_number": 7
    },
    {
     "cell_type": "code",
     "collapsed": false,
     "input": [
      "# select year 1880\n",
      "names[names.year == 1880].tail()"
     ],
     "language": "python",
     "metadata": {},
     "outputs": [
      {
       "metadata": {},
       "output_type": "pyout",
       "prompt_number": 8,
       "text": [
        "        year     name      prop   sex soundex\n",
        "129995  1880  Emaline  0.000041  girl    E545\n",
        "129996  1880    Ester  0.000041  girl    E236\n",
        "129997  1880    Eulah  0.000041  girl    E400\n",
        "129998  1880  Eulalie  0.000041  girl    E440\n",
        "129999  1880     Euna  0.000041  girl    E500\n",
        "\n",
        "[5 rows x 5 columns]"
       ]
      }
     ],
     "prompt_number": 8
    },
    {
     "cell_type": "code",
     "collapsed": false,
     "input": [
      "names.year"
     ],
     "language": "python",
     "metadata": {},
     "outputs": [
      {
       "metadata": {},
       "output_type": "pyout",
       "prompt_number": 9,
       "text": [
        "0     1880\n",
        "1     1880\n",
        "2     1880\n",
        "3     1880\n",
        "4     1880\n",
        "5     1880\n",
        "6     1880\n",
        "7     1880\n",
        "8     1880\n",
        "9     1880\n",
        "10    1880\n",
        "11    1880\n",
        "12    1880\n",
        "13    1880\n",
        "14    1880\n",
        "...\n",
        "257985    2008\n",
        "257986    2008\n",
        "257987    2008\n",
        "257988    2008\n",
        "257989    2008\n",
        "257990    2008\n",
        "257991    2008\n",
        "257992    2008\n",
        "257993    2008\n",
        "257994    2008\n",
        "257995    2008\n",
        "257996    2008\n",
        "257997    2008\n",
        "257998    2008\n",
        "257999    2008\n",
        "Name: year, Length: 258000, dtype: int64"
       ]
      }
     ],
     "prompt_number": 9
    },
    {
     "cell_type": "code",
     "collapsed": false,
     "input": [
      "# split data by sex\n",
      "boy = names[names.sex == 'boy']\n",
      "girl = names[names.sex == 'girl']"
     ],
     "language": "python",
     "metadata": {},
     "outputs": [],
     "prompt_number": 10
    },
    {
     "cell_type": "code",
     "collapsed": false,
     "input": [
      "boy.head()"
     ],
     "language": "python",
     "metadata": {},
     "outputs": [
      {
       "metadata": {},
       "output_type": "pyout",
       "prompt_number": 11,
       "text": [
        "   year     name      prop  sex soundex\n",
        "0  1880     John  0.081541  boy    J500\n",
        "1  1880  William  0.080511  boy    W450\n",
        "2  1880    James  0.050057  boy    J520\n",
        "3  1880  Charles  0.045167  boy    C642\n",
        "4  1880   George  0.043292  boy    G620\n",
        "\n",
        "[5 rows x 5 columns]"
       ]
      }
     ],
     "prompt_number": 11
    },
    {
     "cell_type": "code",
     "collapsed": false,
     "input": [
      "girl.head()"
     ],
     "language": "python",
     "metadata": {},
     "outputs": [
      {
       "metadata": {},
       "output_type": "pyout",
       "prompt_number": 12,
       "text": [
        "        year       name      prop   sex soundex\n",
        "129000  1880       Mary  0.072381  girl    M600\n",
        "129001  1880       Anna  0.026678  girl    A500\n",
        "129002  1880       Emma  0.020521  girl    E500\n",
        "129003  1880  Elizabeth  0.019865  girl    E421\n",
        "129004  1880     Minnie  0.017888  girl    M500\n",
        "\n",
        "[5 rows x 5 columns]"
       ]
      }
     ],
     "prompt_number": 12
    },
    {
     "cell_type": "code",
     "collapsed": false,
     "input": [
      "# number of records by year for boy\n",
      "boy.groupby('year').size().head() "
     ],
     "language": "python",
     "metadata": {},
     "outputs": [
      {
       "metadata": {},
       "output_type": "pyout",
       "prompt_number": 13,
       "text": [
        "year\n",
        "1880    1000\n",
        "1881    1000\n",
        "1882    1000\n",
        "1883    1000\n",
        "1884    1000\n",
        "dtype: int64"
       ]
      }
     ],
     "prompt_number": 13
    },
    {
     "cell_type": "code",
     "collapsed": false,
     "input": [
      "# hierarchical index (number of records by year and sex)\n",
      "names.groupby(['year', 'sex']).size().head() "
     ],
     "language": "python",
     "metadata": {},
     "outputs": [
      {
       "metadata": {},
       "output_type": "pyout",
       "prompt_number": 14,
       "text": [
        "year  sex \n",
        "1880  boy     1000\n",
        "      girl    1000\n",
        "1881  boy     1000\n",
        "      girl    1000\n",
        "1882  boy     1000\n",
        "dtype: int64"
       ]
      }
     ],
     "prompt_number": 14
    },
    {
     "cell_type": "code",
     "collapsed": false,
     "input": [
      "# year 2000\n",
      "names.groupby(['year', 'sex']).size().ix[2000] "
     ],
     "language": "python",
     "metadata": {},
     "outputs": [
      {
       "metadata": {},
       "output_type": "pyout",
       "prompt_number": 15,
       "text": [
        "sex\n",
        "boy     1000\n",
        "girl    1000\n",
        "dtype: int64"
       ]
      }
     ],
     "prompt_number": 15
    },
    {
     "cell_type": "code",
     "collapsed": false,
     "input": [
      "# return the row id of the most popular boy name in 2000 (i.e. max proportion)\n",
      "boy[boy.year == 2000].prop.idxmax() "
     ],
     "language": "python",
     "metadata": {},
     "outputs": [
      {
       "metadata": {},
       "output_type": "pyout",
       "prompt_number": 16,
       "text": [
        "120000"
       ]
      }
     ],
     "prompt_number": 16
    },
    {
     "cell_type": "code",
     "collapsed": false,
     "input": [
      "# return the row for the above value\n",
      "boy.ix[boy[boy.year == 2000].prop.idxmax()] "
     ],
     "language": "python",
     "metadata": {},
     "outputs": [
      {
       "metadata": {},
       "output_type": "pyout",
       "prompt_number": 17,
       "text": [
        "year           2000\n",
        "name          Jacob\n",
        "prop       0.016514\n",
        "sex             boy\n",
        "soundex        J210\n",
        "Name: 120000, dtype: object"
       ]
      }
     ],
     "prompt_number": 17
    },
    {
     "cell_type": "code",
     "collapsed": false,
     "input": [
      "# create a function that takes a group of data (e.g. boy).\n",
      "# For each year, take the prop column and gets the index of its maximum value.\n",
      "# Finally, use the indexing facility (i.e. ix) to retrieve the record for that index.\n",
      "def get_max_record(group):\n",
      "    return group.ix[group.prop.idxmax()] "
     ],
     "language": "python",
     "metadata": {},
     "outputs": [],
     "prompt_number": 18
    },
    {
     "cell_type": "code",
     "collapsed": false,
     "input": [
      "# return the most popular boy name in the dataset \n",
      "get_max_record(boy)"
     ],
     "language": "python",
     "metadata": {},
     "outputs": [
      {
       "metadata": {},
       "output_type": "pyout",
       "prompt_number": 19,
       "text": [
        "year           1880\n",
        "name           John\n",
        "prop       0.081541\n",
        "sex             boy\n",
        "soundex        J500\n",
        "Name: 0, dtype: object"
       ]
      }
     ],
     "prompt_number": 19
    },
    {
     "cell_type": "code",
     "collapsed": false,
     "input": [
      "# split the data by year (i.e. groupby), apply the function to each year, \n",
      "# and return a table with the most popular boy name for each year\n",
      "boy.groupby('year').apply(get_max_record).head() "
     ],
     "language": "python",
     "metadata": {},
     "outputs": [
      {
       "metadata": {},
       "output_type": "pyout",
       "prompt_number": 20,
       "text": [
        "      year  name      prop  sex soundex\n",
        "year                                   \n",
        "1880  1880  John  0.081541  boy    J500\n",
        "1881  1881  John  0.080975  boy    J500\n",
        "1882  1882  John  0.078314  boy    J500\n",
        "1883  1883  John  0.079066  boy    J500\n",
        "1884  1884  John  0.076476  boy    J500\n",
        "\n",
        "[5 rows x 5 columns]"
       ]
      }
     ],
     "prompt_number": 20
    },
    {
     "cell_type": "code",
     "collapsed": false,
     "input": [
      "# plot the data\n",
      "result = boy.groupby('year').apply(get_max_record) # put the above code into 'result'\n",
      "result.prop.plot() # plot the proportion of the most popular boy name over time"
     ],
     "language": "python",
     "metadata": {},
     "outputs": [
      {
       "metadata": {},
       "output_type": "pyout",
       "prompt_number": 21,
       "text": [
        "<matplotlib.axes.AxesSubplot at 0x10e9d6790>"
       ]
      },
      {
       "metadata": {},
       "output_type": "display_data",
       "png": "[encoded data removed]",
       "text": [
        "<matplotlib.figure.Figure at 0x10e1fcc50>"
       ]
      }
     ],
     "prompt_number": 21
    },
    {
     "cell_type": "code",
     "collapsed": false,
     "input": [
      "# find out the popularity of a specific name over time, e.g. \"Travis\"\n",
      "# Part 1 is to index the dataframe by year and name\n",
      "# boy[boy.name == 'Travis'] # returns data with boy names = \"Travis\" but can be computationally expensive if long dataset. Instead:\n",
      "idf = boy.set_index(['name', 'year']) # index dataframe by year and name\n",
      "idf[-10:] "
     ],
     "language": "python",
     "metadata": {},
     "outputs": [
      {
       "metadata": {},
       "output_type": "pyout",
       "prompt_number": 22,
       "text": [
        "                   prop  sex soundex\n",
        "name     year                       \n",
        "Baron    2008  0.000090  boy    B650\n",
        "Carlo    2008  0.000090  boy    C640\n",
        "Carsen   2008  0.000090  boy    C625\n",
        "Fletcher 2008  0.000090  boy    F432\n",
        "Izayah   2008  0.000090  boy    I200\n",
        "Kolten   2008  0.000090  boy    K435\n",
        "Damari   2008  0.000089  boy    D560\n",
        "Hugh     2008  0.000089  boy    H200\n",
        "Jensen   2008  0.000089  boy    J525\n",
        "Yurem    2008  0.000089  boy    Y650\n",
        "\n",
        "[10 rows x 3 columns]"
       ]
      }
     ],
     "prompt_number": 22
    },
    {
     "cell_type": "code",
     "collapsed": false,
     "input": [
      "# Part 2 is to actually find out about the popularity of a specific name over time, e.g. \"Travis\"\n",
      "idf.ix['Travis'].head()"
     ],
     "language": "python",
     "metadata": {},
     "outputs": [
      {
       "metadata": {},
       "output_type": "pyout",
       "prompt_number": 23,
       "text": [
        "          prop  sex soundex\n",
        "year                       \n",
        "1880  0.000101  boy    T612\n",
        "1882  0.000082  boy    T612\n",
        "1883  0.000080  boy    T612\n",
        "1884  0.000081  boy    T612\n",
        "1885  0.000095  boy    T612\n",
        "\n",
        "[5 rows x 3 columns]"
       ]
      }
     ],
     "prompt_number": 23
    },
    {
     "cell_type": "code",
     "collapsed": false,
     "input": [
      "# plot it!\n",
      "idf.ix['Travis'].prop.plot() # popularity of 'Travis' over time"
     ],
     "language": "python",
     "metadata": {},
     "outputs": [
      {
       "metadata": {},
       "output_type": "pyout",
       "prompt_number": 24,
       "text": [
        "<matplotlib.axes.AxesSubplot at 0x10e2aff90>"
       ]
      },
      {
       "metadata": {},
       "output_type": "display_data",
       "png": "[encoded data removed]",
       "text": [
        "<matplotlib.figure.Figure at 0x10e2a9390>"
       ]
      }
     ],
     "prompt_number": 24
    },
    {
     "cell_type": "code",
     "collapsed": false,
     "input": [
      "# Turn it into a function for boys and for girls\n",
      "def popular_boy(name):\n",
      "    idb = boy.set_index(['name', 'year'])\n",
      "    idb.ix[name].prop.plot()\n",
      "    \n",
      "def popular_girl(name):\n",
      "    idg = girl.set_index(['name', 'year'])\n",
      "    idg.ix[name].prop.plot()"
     ],
     "language": "python",
     "metadata": {},
     "outputs": [],
     "prompt_number": 25
    },
    {
     "cell_type": "code",
     "collapsed": false,
     "input": [
      "# test function for boy\n",
      "popular_boy('Chris')"
     ],
     "language": "python",
     "metadata": {},
     "outputs": [
      {
       "metadata": {},
       "output_type": "display_data",
       "png": "[encoded data removed]",
       "text": [
        "<matplotlib.figure.Figure at 0x10e1d5850>"
       ]
      }
     ],
     "prompt_number": 26
    },
    {
     "cell_type": "code",
     "collapsed": false,
     "input": [
      "# test function for girl\n",
      "popular_girl('Chris')"
     ],
     "language": "python",
     "metadata": {},
     "outputs": [
      {
       "metadata": {},
       "output_type": "display_data",
       "png": "[encoded data removed]",
       "text": [
        "<matplotlib.figure.Figure at 0x10e3627d0>"
       ]
      }
     ],
     "prompt_number": 27
    },
    {
     "cell_type": "code",
     "collapsed": false,
     "input": [
      "# plot boys and girls together\n",
      "popular_boy('Chris')\n",
      "popular_girl('Chris')\n",
      "legend(\"boy\", \"girl\") # need to fix the legend label\n",
      "plt.legend(loc=\"best\")"
     ],
     "language": "python",
     "metadata": {},
     "outputs": [
      {
       "metadata": {},
       "output_type": "pyout",
       "prompt_number": 31,
       "text": [
        "<matplotlib.legend.Legend at 0x10e90afd0>"
       ]
      },
      {
       "metadata": {},
       "output_type": "display_data",
       "png": "[encoded data removed]",
       "text": [
        "<matplotlib.figure.Figure at 0x10e8ad810>"
       ]
      }
     ],
     "prompt_number": 31
    },
    {
     "cell_type": "code",
     "collapsed": false,
     "input": [
      "# get the mean proportion by boy name and order by value\n",
      "boys.groupby('name')['prop'].mean().order().head()  # need to resolve"
     ],
     "language": "python",
     "metadata": {},
     "outputs": [
      {
       "ename": "NameError",
       "evalue": "name 'boys' is not defined",
       "output_type": "pyerr",
       "traceback": [
        "\u001b[0;31m---------------------------------------------------------------------------\u001b[0m\n\u001b[0;31mNameError\u001b[0m                                 Traceback (most recent call last)",
        "\u001b[0;32m<ipython-input-33-06e59213e69e>\u001b[0m in \u001b[0;36m<module>\u001b[0;34m()\u001b[0m\n\u001b[1;32m      1\u001b[0m \u001b[0;31m# get the mean proportion by boy name and order by value\u001b[0m\u001b[0;34m\u001b[0m\u001b[0;34m\u001b[0m\u001b[0m\n\u001b[0;32m----> 2\u001b[0;31m \u001b[0mboys\u001b[0m\u001b[0;34m.\u001b[0m\u001b[0mgroupby\u001b[0m\u001b[0;34m(\u001b[0m\u001b[0;34m'name'\u001b[0m\u001b[0;34m)\u001b[0m\u001b[0;34m[\u001b[0m\u001b[0;34m'prop'\u001b[0m\u001b[0;34m]\u001b[0m\u001b[0;34m.\u001b[0m\u001b[0mmean\u001b[0m\u001b[0;34m(\u001b[0m\u001b[0;34m)\u001b[0m\u001b[0;34m.\u001b[0m\u001b[0morder\u001b[0m\u001b[0;34m(\u001b[0m\u001b[0;34m)\u001b[0m\u001b[0;34m.\u001b[0m\u001b[0mhead\u001b[0m\u001b[0;34m(\u001b[0m\u001b[0;34m)\u001b[0m  \u001b[0;31m# need to resolve\u001b[0m\u001b[0;34m\u001b[0m\u001b[0m\n\u001b[0m",
        "\u001b[0;31mNameError\u001b[0m: name 'boys' is not defined"
       ]
      }
     ],
     "prompt_number": 33
    },
    {
     "cell_type": "code",
     "collapsed": false,
     "input": [
      "# summary statistics for each boy name\n",
      "results = boy.groupby('name')['prop'].describe()\n",
      "results[:20]"
     ],
     "language": "python",
     "metadata": {},
     "outputs": [
      {
       "metadata": {},
       "output_type": "pyout",
       "prompt_number": 34,
       "text": [
        "name        \n",
        "Aaden  count      1.000000\n",
        "       mean       0.000442\n",
        "       std             NaN\n",
        "       min        0.000442\n",
        "       25%        0.000442\n",
        "       50%        0.000442\n",
        "       75%        0.000442\n",
        "       max        0.000442\n",
        "Aarav  count      1.000000\n",
        "       mean       0.000101\n",
        "       std             NaN\n",
        "       min        0.000101\n",
        "       25%        0.000101\n",
        "       50%        0.000101\n",
        "       75%        0.000101\n",
        "       max        0.000101\n",
        "Aaron  count    129.000000\n",
        "       mean       0.002266\n",
        "       std        0.002545\n",
        "       min        0.000351\n",
        "dtype: float64"
       ]
      }
     ],
     "prompt_number": 34
    },
    {
     "cell_type": "code",
     "collapsed": false,
     "input": [
      "# summary statistics for the proportion of boy names\n",
      "boy['prop'].describe()"
     ],
     "language": "python",
     "metadata": {},
     "outputs": [
      {
       "metadata": {},
       "output_type": "pyout",
       "prompt_number": 35,
       "text": [
        "count    129000.000000\n",
        "mean          0.000916\n",
        "std           0.003441\n",
        "min           0.000026\n",
        "25%           0.000071\n",
        "50%           0.000142\n",
        "75%           0.000453\n",
        "max           0.081541\n",
        "Name: prop, dtype: float64"
       ]
      }
     ],
     "prompt_number": 35
    },
    {
     "cell_type": "code",
     "collapsed": false,
     "input": [
      "# sort the data in descending order by the proportion column take the cumulative sum of that column\n",
      "df = boy[boy.year == 2008].sort_index(by='prop', ascending=False) # sort the proportion by descending order\n",
      "df.prop.cumsum() # cumulative sum\n",
      "# df.prop.order(ascending=False).cumsum() alternate way of doing the same thing"
     ],
     "language": "python",
     "metadata": {},
     "outputs": [
      {
       "metadata": {},
       "output_type": "pyout",
       "prompt_number": 36,
       "text": [
        "128000    0.010355\n",
        "128001    0.019792\n",
        "128002    0.029093\n",
        "128003    0.037892\n",
        "128004    0.046594\n",
        "128005    0.055160\n",
        "128006    0.063602\n",
        "128007    0.072040\n",
        "128008    0.080308\n",
        "128009    0.088369\n",
        "128010    0.096246\n",
        "128011    0.103940\n",
        "128012    0.111510\n",
        "128013    0.118977\n",
        "128014    0.126239\n",
        "...\n",
        "128985    0.794154\n",
        "128986    0.794245\n",
        "128987    0.794336\n",
        "128988    0.794427\n",
        "128989    0.794518\n",
        "128992    0.794608\n",
        "128994    0.794698\n",
        "128993    0.794788\n",
        "128995    0.794878\n",
        "128991    0.794968\n",
        "128990    0.795058\n",
        "128997    0.795147\n",
        "128998    0.795236\n",
        "128996    0.795325\n",
        "128999    0.795414\n",
        "Name: prop, Length: 1000, dtype: float64"
       ]
      }
     ],
     "prompt_number": 36
    },
    {
     "cell_type": "code",
     "collapsed": false,
     "input": [
      "# from previous output, how many did it take until reaching 50%?\n",
      "searchsorted(df.prop.cumsum(), 0.5)"
     ],
     "language": "python",
     "metadata": {},
     "outputs": [
      {
       "metadata": {},
       "output_type": "pyout",
       "prompt_number": 37,
       "text": [
        "128000    127\n",
        "128001    127\n",
        "128002    127\n",
        "128003    127\n",
        "128004    127\n",
        "128005    127\n",
        "128006    127\n",
        "128007    127\n",
        "128008    127\n",
        "128009    127\n",
        "128010    127\n",
        "128011    127\n",
        "128012    127\n",
        "128013    127\n",
        "128014    127\n",
        "...\n",
        "128985    127\n",
        "128986    127\n",
        "128987    127\n",
        "128988    127\n",
        "128989    127\n",
        "128992    127\n",
        "128994    127\n",
        "128993    127\n",
        "128995    127\n",
        "128991    127\n",
        "128990    127\n",
        "128997    127\n",
        "128998    127\n",
        "128996    127\n",
        "128999    127\n",
        "Name: prop, Length: 1000, dtype: int64"
       ]
      }
     ],
     "prompt_number": 37
    },
    {
     "cell_type": "code",
     "collapsed": false,
     "input": [
      "# verify that the 127th proportion is 50% by calling the first 130 cumulative rows\n",
      "df.prop.cumsum()[125:130]"
     ],
     "language": "python",
     "metadata": {},
     "outputs": [
      {
       "metadata": {},
       "output_type": "pyout",
       "prompt_number": 38,
       "text": [
        "128125    0.497718\n",
        "128126    0.499243\n",
        "128127    0.500748\n",
        "128128    0.502243\n",
        "128129    0.503723\n",
        "Name: prop, dtype: float64"
       ]
      }
     ],
     "prompt_number": 38
    }
   ],
   "metadata": {}
  }
 ]
}